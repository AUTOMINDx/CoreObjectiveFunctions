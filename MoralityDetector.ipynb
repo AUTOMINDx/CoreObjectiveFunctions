{
  "nbformat": 4,
  "nbformat_minor": 0,
  "metadata": {
    "colab": {
      "name": "MoralityDetector.ipynb",
      "provenance": [],
      "authorship_tag": "ABX9TyPXNOrF8RmB8ZeqOw1jzwOX",
      "include_colab_link": true
    },
    "kernelspec": {
      "name": "python3",
      "display_name": "Python 3"
    }
  },
  "cells": [
    {
      "cell_type": "markdown",
      "metadata": {
        "id": "view-in-github",
        "colab_type": "text"
      },
      "source": [
        "<a href=\"https://colab.research.google.com/github/daveshap/MoralityDetector/blob/main/MoralityDetector.ipynb\" target=\"_parent\"><img src=\"https://colab.research.google.com/assets/colab-badge.svg\" alt=\"Open In Colab\"/></a>"
      ]
    },
    {
      "cell_type": "markdown",
      "metadata": {
        "id": "J_J4EfXOVhJy"
      },
      "source": [
        "# Axiomatic Morality\n",
        "**Axiomatic** - *adjective*\n",
        "> self-evident or unquestionable\n",
        "\n",
        "Suffering and empathy are the core components to any moral frameworks. Children, however, develop morality through things like [punishment and relationships](https://en.wikipedia.org/wiki/Lawrence_Kohlberg%27s_stages_of_moral_development). So where to begin?\n",
        "\n",
        "1. Extract sentences from Wikipedia and Gutenberg\n",
        "2. Weakly label sentences with various tools, such as Snorkel\n",
        "3. Add USEv4 sentence embeddings \n",
        "4. Find sentences/embeddings that are closest to manually defined set\n",
        "5. Use [RMSE](https://scikit-learn.org/stable/modules/generated/sklearn.metrics.mean_squared_error.html) to calculate difference between specific vectors\n",
        "6. With this closeness metric, we should be able to identify sentences that are similar enough\n",
        "\n",
        "## Prohibitive Morality\n",
        "\n",
        "Knowing what NOT to do is perhaps more important than knowing what one SHOULD do. \n",
        "\n",
        "## Relational Morality\n",
        "\n",
        "Knowing what is expected of you, and what would gain or lose the approval of family, friends, and society is also a great way to know what to do.\n",
        "\n",
        "## Principle Morality\n",
        "\n",
        "This is more abstract, an adherence to virtues, principles, or ideals. This is where individual values have been deeply developed. "
      ]
    },
    {
      "cell_type": "code",
      "metadata": {
        "id": "ebpFWxZqV3Dj"
      },
      "source": [
        "!pip install snorkel\n",
        "!pip install nlpaug"
      ],
      "execution_count": null,
      "outputs": []
    }
  ]
}